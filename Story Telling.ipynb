{
 "cells": [
  {
   "cell_type": "markdown",
   "id": "8d3e91e8",
   "metadata": {},
   "source": [
    "# Business Understanding"
   ]
  },
  {
   "cell_type": "markdown",
   "id": "02ee9030",
   "metadata": {},
   "source": [
    "The diamond industry is a highly competitive, market-driven industry. Diamond manufacturers and jewelry retailers need to have a deep understanding of diamond characteristics and market trends to make informed decisions regarding production, inventory, pricing, and marketing. Consumers seek diamond jewelry that aligns with their preferences. Therefore, data analysis on the diamond dataset can provide valuable insights to understand the market and optimize business operations."
   ]
  },
  {
   "cell_type": "markdown",
   "id": "0b1e00dc",
   "metadata": {},
   "source": [
    "# Business Benefits"
   ]
  },
  {
   "cell_type": "markdown",
   "id": "089bdae2",
   "metadata": {},
   "source": [
    "- Operational efficiency improvement: Data analysis can help diamond manufacturers optimize production and inventory management, reduce wastage, and enhance operational efficiency.\n",
    "- Sales enhancement: By understanding customer preferences, both manufacturers and retailers can offer products that better align with market demand.\n",
    "- Increased customer satisfaction: Providing more relevant recommendations to consumers can improve customer satisfaction.\n",
    "- Stronger competition: With a better understanding of the market and pricing, diamond businesses can compete more effectively in a competitive global marketplace."
   ]
  },
  {
   "cell_type": "markdown",
   "id": "ca428c88",
   "metadata": {},
   "source": [
    "# Expected Outcomes"
   ]
  },
  {
   "cell_type": "markdown",
   "id": "986c74eb",
   "metadata": {},
   "source": [
    "- Enhanced understanding of the diamond market.\n",
    "- Improved operational efficiency in diamond production and inventory management.\n",
    "- Increased sales of diamond jewelry.\n",
    "- Higher customer satisfaction."
   ]
  },
  {
   "cell_type": "markdown",
   "id": "c6208316",
   "metadata": {},
   "source": [
    "# Data Understanding"
   ]
  },
  {
   "cell_type": "markdown",
   "id": "d65974b6",
   "metadata": {},
   "source": [
    "- Dataset Overview :\n",
    "\n",
    "The diamond dataset is a collection of data related to various attributes of diamonds, including carat weight, cut quality, color, clarity, depth percentage, table percentage, price, and more. Understanding this dataset is crucial for conducting meaningful analyses and drawing insights about the characteristics and pricing of diamonds.\n",
    "\n",
    "- Data Sources :\n",
    "\n",
    "Load the dataset in the seaborn library\n",
    "\n",
    "- Data Size and Structure :\n",
    "\n",
    "The dataset consists of 29708 rows and 10 columns.\n",
    "Each row represents an individual diamond.\n",
    "The columns include both numerical and categorical data, such as carat, cut, color, clarity, price, etc.\n",
    "\n",
    "- Data Attributes :\n",
    "\n",
    "    - Carat: A numerical value representing the weight of the diamond in carats.\n",
    "    - Cut: A categorical attribute describing the quality of the diamond's cut (e.g., Fair, Good, Very Good, Premium, Ideal).\n",
    "    - Color: A categorical attribute describing the color of the diamond (ranging from J, the lowest color grade, to D, the highest).\n",
    "    - Clarity: A categorical attribute describing the clarity of the diamond (e.g., I1, SI2, SI1, VS2, VS1, VVS2, VVS1, IF).\n",
    "    - Depth: A numerical attribute representing the depth percentage of the diamond.\n",
    "    - Table: A numerical attribute representing the table percentage of the diamond.\n",
    "    - Price: The price of the diamond in a given currency.\n",
    "    - x (Length): Measures the length of the diamond in millimeters. This is the measurement of the diagonal length from one end of the diamond to the other.\n",
    "    - y (Width): Measures the width of the diamond in millimeters. This is a measurement of the diagonal width from side to side.\n",
    "    - z (Depth): Measures the depth of the diamond in millimeters. This is the vertical distance from the top of the diamond to the bottom."
   ]
  },
  {
   "cell_type": "markdown",
   "id": "d12b483e",
   "metadata": {},
   "source": [
    "# Data Preparation"
   ]
  },
  {
   "cell_type": "markdown",
   "id": "1d081e22",
   "metadata": {},
   "source": [
    "- Python Version : 3.11.4\n",
    "- Packages : Pandas, Numpy, Matplotlib, Seaborn"
   ]
  },
  {
   "cell_type": "code",
   "execution_count": 1,
   "id": "4da81fdf",
   "metadata": {
    "scrolled": true
   },
   "outputs": [
    {
     "name": "stdout",
     "output_type": "stream",
     "text": [
      "3.11.4 | packaged by Anaconda, Inc. | (main, Jul  5 2023, 13:38:37) [MSC v.1916 64 bit (AMD64)]\n"
     ]
    }
   ],
   "source": [
    "import sys\n",
    "print(sys.version)"
   ]
  },
  {
   "cell_type": "code",
   "execution_count": 3,
   "id": "f019383f",
   "metadata": {},
   "outputs": [],
   "source": [
    "import pandas as pd\n",
    "import seaborn as sns\n",
    "import matplotlib.pyplot as plt"
   ]
  },
  {
   "cell_type": "code",
   "execution_count": 4,
   "id": "a346ddfc",
   "metadata": {},
   "outputs": [],
   "source": [
    "diamond = sns.load_dataset('diamonds')"
   ]
  },
  {
   "cell_type": "code",
   "execution_count": 5,
   "id": "ef4922ab",
   "metadata": {},
   "outputs": [
    {
     "data": {
      "text/html": [
       "<div>\n",
       "<style scoped>\n",
       "    .dataframe tbody tr th:only-of-type {\n",
       "        vertical-align: middle;\n",
       "    }\n",
       "\n",
       "    .dataframe tbody tr th {\n",
       "        vertical-align: top;\n",
       "    }\n",
       "\n",
       "    .dataframe thead th {\n",
       "        text-align: right;\n",
       "    }\n",
       "</style>\n",
       "<table border=\"1\" class=\"dataframe\">\n",
       "  <thead>\n",
       "    <tr style=\"text-align: right;\">\n",
       "      <th></th>\n",
       "      <th>carat</th>\n",
       "      <th>cut</th>\n",
       "      <th>color</th>\n",
       "      <th>clarity</th>\n",
       "      <th>depth</th>\n",
       "      <th>table</th>\n",
       "      <th>price</th>\n",
       "      <th>x</th>\n",
       "      <th>y</th>\n",
       "      <th>z</th>\n",
       "    </tr>\n",
       "  </thead>\n",
       "  <tbody>\n",
       "    <tr>\n",
       "      <th>0</th>\n",
       "      <td>0.23</td>\n",
       "      <td>Ideal</td>\n",
       "      <td>E</td>\n",
       "      <td>SI2</td>\n",
       "      <td>61.5</td>\n",
       "      <td>55.0</td>\n",
       "      <td>326</td>\n",
       "      <td>3.95</td>\n",
       "      <td>3.98</td>\n",
       "      <td>2.43</td>\n",
       "    </tr>\n",
       "    <tr>\n",
       "      <th>1</th>\n",
       "      <td>0.21</td>\n",
       "      <td>Premium</td>\n",
       "      <td>E</td>\n",
       "      <td>SI1</td>\n",
       "      <td>59.8</td>\n",
       "      <td>61.0</td>\n",
       "      <td>326</td>\n",
       "      <td>3.89</td>\n",
       "      <td>3.84</td>\n",
       "      <td>2.31</td>\n",
       "    </tr>\n",
       "    <tr>\n",
       "      <th>2</th>\n",
       "      <td>0.23</td>\n",
       "      <td>Good</td>\n",
       "      <td>E</td>\n",
       "      <td>VS1</td>\n",
       "      <td>56.9</td>\n",
       "      <td>65.0</td>\n",
       "      <td>327</td>\n",
       "      <td>4.05</td>\n",
       "      <td>4.07</td>\n",
       "      <td>2.31</td>\n",
       "    </tr>\n",
       "    <tr>\n",
       "      <th>3</th>\n",
       "      <td>0.29</td>\n",
       "      <td>Premium</td>\n",
       "      <td>I</td>\n",
       "      <td>VS2</td>\n",
       "      <td>62.4</td>\n",
       "      <td>58.0</td>\n",
       "      <td>334</td>\n",
       "      <td>4.20</td>\n",
       "      <td>4.23</td>\n",
       "      <td>2.63</td>\n",
       "    </tr>\n",
       "    <tr>\n",
       "      <th>4</th>\n",
       "      <td>0.31</td>\n",
       "      <td>Good</td>\n",
       "      <td>J</td>\n",
       "      <td>SI2</td>\n",
       "      <td>63.3</td>\n",
       "      <td>58.0</td>\n",
       "      <td>335</td>\n",
       "      <td>4.34</td>\n",
       "      <td>4.35</td>\n",
       "      <td>2.75</td>\n",
       "    </tr>\n",
       "  </tbody>\n",
       "</table>\n",
       "</div>"
      ],
      "text/plain": [
       "   carat      cut color clarity  depth  table  price     x     y     z\n",
       "0   0.23    Ideal     E     SI2   61.5   55.0    326  3.95  3.98  2.43\n",
       "1   0.21  Premium     E     SI1   59.8   61.0    326  3.89  3.84  2.31\n",
       "2   0.23     Good     E     VS1   56.9   65.0    327  4.05  4.07  2.31\n",
       "3   0.29  Premium     I     VS2   62.4   58.0    334  4.20  4.23  2.63\n",
       "4   0.31     Good     J     SI2   63.3   58.0    335  4.34  4.35  2.75"
      ]
     },
     "execution_count": 5,
     "metadata": {},
     "output_type": "execute_result"
    }
   ],
   "source": [
    "diamond.head()"
   ]
  },
  {
   "cell_type": "code",
   "execution_count": 6,
   "id": "430fb6ce",
   "metadata": {},
   "outputs": [
    {
     "name": "stdout",
     "output_type": "stream",
     "text": [
      "<class 'pandas.core.frame.DataFrame'>\n",
      "RangeIndex: 29708 entries, 0 to 29707\n",
      "Data columns (total 10 columns):\n",
      " #   Column   Non-Null Count  Dtype   \n",
      "---  ------   --------------  -----   \n",
      " 0   carat    29708 non-null  float64 \n",
      " 1   cut      29708 non-null  category\n",
      " 2   color    29708 non-null  category\n",
      " 3   clarity  29708 non-null  category\n",
      " 4   depth    29708 non-null  float64 \n",
      " 5   table    29708 non-null  float64 \n",
      " 6   price    29708 non-null  int64   \n",
      " 7   x        29707 non-null  float64 \n",
      " 8   y        29707 non-null  float64 \n",
      " 9   z        29707 non-null  float64 \n",
      "dtypes: category(3), float64(6), int64(1)\n",
      "memory usage: 1.7 MB\n"
     ]
    }
   ],
   "source": [
    "diamond.info()"
   ]
  },
  {
   "cell_type": "code",
   "execution_count": 7,
   "id": "f52073ae",
   "metadata": {},
   "outputs": [
    {
     "data": {
      "text/plain": [
       "(29708, 10)"
      ]
     },
     "execution_count": 7,
     "metadata": {},
     "output_type": "execute_result"
    }
   ],
   "source": [
    "diamond.shape"
   ]
  },
  {
   "cell_type": "markdown",
   "id": "793dfea7",
   "metadata": {},
   "source": [
    "# Identify NaN values"
   ]
  },
  {
   "cell_type": "code",
   "execution_count": 8,
   "id": "34c3c4e8",
   "metadata": {},
   "outputs": [
    {
     "data": {
      "text/plain": [
       "carat      0\n",
       "cut        0\n",
       "color      0\n",
       "clarity    0\n",
       "depth      0\n",
       "table      0\n",
       "price      0\n",
       "x          1\n",
       "y          1\n",
       "z          1\n",
       "dtype: int64"
      ]
     },
     "execution_count": 8,
     "metadata": {},
     "output_type": "execute_result"
    }
   ],
   "source": [
    "diamond.isna().sum()"
   ]
  },
  {
   "cell_type": "markdown",
   "id": "4698d976",
   "metadata": {},
   "source": [
    "# Dealing with NaN values"
   ]
  },
  {
   "cell_type": "code",
   "execution_count": 10,
   "id": "2d57b494",
   "metadata": {},
   "outputs": [],
   "source": [
    "mean_x = diamond['x'].mean()\n",
    "mean_y = diamond['y'].mean()\n",
    "mean_z = diamond['z'].mean()"
   ]
  },
  {
   "cell_type": "code",
   "execution_count": 11,
   "id": "69672b4d",
   "metadata": {},
   "outputs": [],
   "source": [
    "diamond['x'].fillna(mean_x, inplace=True)\n",
    "diamond['y'].fillna(mean_y, inplace=True)\n",
    "diamond['z'].fillna(mean_z, inplace=True)"
   ]
  },
  {
   "cell_type": "code",
   "execution_count": 12,
   "id": "b86517f6",
   "metadata": {},
   "outputs": [
    {
     "data": {
      "text/plain": [
       "carat      0\n",
       "cut        0\n",
       "color      0\n",
       "clarity    0\n",
       "depth      0\n",
       "table      0\n",
       "price      0\n",
       "x          0\n",
       "y          0\n",
       "z          0\n",
       "dtype: int64"
      ]
     },
     "execution_count": 12,
     "metadata": {},
     "output_type": "execute_result"
    }
   ],
   "source": [
    "diamond.isna().sum()"
   ]
  },
  {
   "cell_type": "markdown",
   "id": "80ecf8c6",
   "metadata": {},
   "source": [
    "# Check for duplicates"
   ]
  },
  {
   "cell_type": "code",
   "execution_count": 15,
   "id": "e06c79dc",
   "metadata": {},
   "outputs": [
    {
     "data": {
      "text/html": [
       "<div>\n",
       "<style scoped>\n",
       "    .dataframe tbody tr th:only-of-type {\n",
       "        vertical-align: middle;\n",
       "    }\n",
       "\n",
       "    .dataframe tbody tr th {\n",
       "        vertical-align: top;\n",
       "    }\n",
       "\n",
       "    .dataframe thead th {\n",
       "        text-align: right;\n",
       "    }\n",
       "</style>\n",
       "<table border=\"1\" class=\"dataframe\">\n",
       "  <thead>\n",
       "    <tr style=\"text-align: right;\">\n",
       "      <th></th>\n",
       "      <th>carat</th>\n",
       "      <th>cut</th>\n",
       "      <th>color</th>\n",
       "      <th>clarity</th>\n",
       "      <th>depth</th>\n",
       "      <th>table</th>\n",
       "      <th>price</th>\n",
       "      <th>x</th>\n",
       "      <th>y</th>\n",
       "      <th>z</th>\n",
       "    </tr>\n",
       "  </thead>\n",
       "  <tbody>\n",
       "    <tr>\n",
       "      <th>1005</th>\n",
       "      <td>0.79</td>\n",
       "      <td>Ideal</td>\n",
       "      <td>G</td>\n",
       "      <td>SI1</td>\n",
       "      <td>62.3</td>\n",
       "      <td>57.0</td>\n",
       "      <td>2898</td>\n",
       "      <td>5.90</td>\n",
       "      <td>5.85</td>\n",
       "      <td>3.66</td>\n",
       "    </tr>\n",
       "    <tr>\n",
       "      <th>1006</th>\n",
       "      <td>0.79</td>\n",
       "      <td>Ideal</td>\n",
       "      <td>G</td>\n",
       "      <td>SI1</td>\n",
       "      <td>62.3</td>\n",
       "      <td>57.0</td>\n",
       "      <td>2898</td>\n",
       "      <td>5.90</td>\n",
       "      <td>5.85</td>\n",
       "      <td>3.66</td>\n",
       "    </tr>\n",
       "    <tr>\n",
       "      <th>1007</th>\n",
       "      <td>0.79</td>\n",
       "      <td>Ideal</td>\n",
       "      <td>G</td>\n",
       "      <td>SI1</td>\n",
       "      <td>62.3</td>\n",
       "      <td>57.0</td>\n",
       "      <td>2898</td>\n",
       "      <td>5.90</td>\n",
       "      <td>5.85</td>\n",
       "      <td>3.66</td>\n",
       "    </tr>\n",
       "    <tr>\n",
       "      <th>1008</th>\n",
       "      <td>0.79</td>\n",
       "      <td>Ideal</td>\n",
       "      <td>G</td>\n",
       "      <td>SI1</td>\n",
       "      <td>62.3</td>\n",
       "      <td>57.0</td>\n",
       "      <td>2898</td>\n",
       "      <td>5.90</td>\n",
       "      <td>5.85</td>\n",
       "      <td>3.66</td>\n",
       "    </tr>\n",
       "    <tr>\n",
       "      <th>2025</th>\n",
       "      <td>1.52</td>\n",
       "      <td>Good</td>\n",
       "      <td>E</td>\n",
       "      <td>I1</td>\n",
       "      <td>57.3</td>\n",
       "      <td>58.0</td>\n",
       "      <td>3105</td>\n",
       "      <td>7.53</td>\n",
       "      <td>7.42</td>\n",
       "      <td>4.28</td>\n",
       "    </tr>\n",
       "    <tr>\n",
       "      <th>...</th>\n",
       "      <td>...</td>\n",
       "      <td>...</td>\n",
       "      <td>...</td>\n",
       "      <td>...</td>\n",
       "      <td>...</td>\n",
       "      <td>...</td>\n",
       "      <td>...</td>\n",
       "      <td>...</td>\n",
       "      <td>...</td>\n",
       "      <td>...</td>\n",
       "    </tr>\n",
       "    <tr>\n",
       "      <th>28593</th>\n",
       "      <td>0.30</td>\n",
       "      <td>Ideal</td>\n",
       "      <td>G</td>\n",
       "      <td>VS2</td>\n",
       "      <td>63.0</td>\n",
       "      <td>55.0</td>\n",
       "      <td>675</td>\n",
       "      <td>4.31</td>\n",
       "      <td>4.29</td>\n",
       "      <td>2.71</td>\n",
       "    </tr>\n",
       "    <tr>\n",
       "      <th>29029</th>\n",
       "      <td>0.31</td>\n",
       "      <td>Ideal</td>\n",
       "      <td>H</td>\n",
       "      <td>VVS1</td>\n",
       "      <td>61.6</td>\n",
       "      <td>55.0</td>\n",
       "      <td>687</td>\n",
       "      <td>4.37</td>\n",
       "      <td>4.40</td>\n",
       "      <td>2.70</td>\n",
       "    </tr>\n",
       "    <tr>\n",
       "      <th>29508</th>\n",
       "      <td>0.32</td>\n",
       "      <td>Ideal</td>\n",
       "      <td>E</td>\n",
       "      <td>VS2</td>\n",
       "      <td>62.1</td>\n",
       "      <td>55.0</td>\n",
       "      <td>702</td>\n",
       "      <td>4.36</td>\n",
       "      <td>4.40</td>\n",
       "      <td>2.72</td>\n",
       "    </tr>\n",
       "    <tr>\n",
       "      <th>29591</th>\n",
       "      <td>0.32</td>\n",
       "      <td>Ideal</td>\n",
       "      <td>D</td>\n",
       "      <td>SI1</td>\n",
       "      <td>62.9</td>\n",
       "      <td>56.0</td>\n",
       "      <td>706</td>\n",
       "      <td>4.40</td>\n",
       "      <td>4.38</td>\n",
       "      <td>2.76</td>\n",
       "    </tr>\n",
       "    <tr>\n",
       "      <th>29657</th>\n",
       "      <td>0.35</td>\n",
       "      <td>Ideal</td>\n",
       "      <td>F</td>\n",
       "      <td>VS2</td>\n",
       "      <td>61.4</td>\n",
       "      <td>54.0</td>\n",
       "      <td>706</td>\n",
       "      <td>4.54</td>\n",
       "      <td>4.58</td>\n",
       "      <td>2.80</td>\n",
       "    </tr>\n",
       "  </tbody>\n",
       "</table>\n",
       "<p>77 rows × 10 columns</p>\n",
       "</div>"
      ],
      "text/plain": [
       "       carat    cut color clarity  depth  table  price     x     y     z\n",
       "1005    0.79  Ideal     G     SI1   62.3   57.0   2898  5.90  5.85  3.66\n",
       "1006    0.79  Ideal     G     SI1   62.3   57.0   2898  5.90  5.85  3.66\n",
       "1007    0.79  Ideal     G     SI1   62.3   57.0   2898  5.90  5.85  3.66\n",
       "1008    0.79  Ideal     G     SI1   62.3   57.0   2898  5.90  5.85  3.66\n",
       "2025    1.52   Good     E      I1   57.3   58.0   3105  7.53  7.42  4.28\n",
       "...      ...    ...   ...     ...    ...    ...    ...   ...   ...   ...\n",
       "28593   0.30  Ideal     G     VS2   63.0   55.0    675  4.31  4.29  2.71\n",
       "29029   0.31  Ideal     H    VVS1   61.6   55.0    687  4.37  4.40  2.70\n",
       "29508   0.32  Ideal     E     VS2   62.1   55.0    702  4.36  4.40  2.72\n",
       "29591   0.32  Ideal     D     SI1   62.9   56.0    706  4.40  4.38  2.76\n",
       "29657   0.35  Ideal     F     VS2   61.4   54.0    706  4.54  4.58  2.80\n",
       "\n",
       "[77 rows x 10 columns]"
      ]
     },
     "execution_count": 15,
     "metadata": {},
     "output_type": "execute_result"
    }
   ],
   "source": [
    "diamond[diamond.duplicated()]"
   ]
  },
  {
   "cell_type": "markdown",
   "id": "e05ae952",
   "metadata": {},
   "source": [
    "# Removes duplicate rows"
   ]
  },
  {
   "cell_type": "code",
   "execution_count": 16,
   "id": "371fa03e",
   "metadata": {},
   "outputs": [],
   "source": [
    "diamond.drop_duplicates(inplace=True)"
   ]
  },
  {
   "cell_type": "code",
   "execution_count": 18,
   "id": "158505a9",
   "metadata": {},
   "outputs": [
    {
     "data": {
      "text/html": [
       "<div>\n",
       "<style scoped>\n",
       "    .dataframe tbody tr th:only-of-type {\n",
       "        vertical-align: middle;\n",
       "    }\n",
       "\n",
       "    .dataframe tbody tr th {\n",
       "        vertical-align: top;\n",
       "    }\n",
       "\n",
       "    .dataframe thead th {\n",
       "        text-align: right;\n",
       "    }\n",
       "</style>\n",
       "<table border=\"1\" class=\"dataframe\">\n",
       "  <thead>\n",
       "    <tr style=\"text-align: right;\">\n",
       "      <th></th>\n",
       "      <th>carat</th>\n",
       "      <th>cut</th>\n",
       "      <th>color</th>\n",
       "      <th>clarity</th>\n",
       "      <th>depth</th>\n",
       "      <th>table</th>\n",
       "      <th>price</th>\n",
       "      <th>x</th>\n",
       "      <th>y</th>\n",
       "      <th>z</th>\n",
       "    </tr>\n",
       "  </thead>\n",
       "  <tbody>\n",
       "    <tr>\n",
       "      <th>0</th>\n",
       "      <td>0.23</td>\n",
       "      <td>Ideal</td>\n",
       "      <td>E</td>\n",
       "      <td>SI2</td>\n",
       "      <td>61.5</td>\n",
       "      <td>55.0</td>\n",
       "      <td>326</td>\n",
       "      <td>3.950000</td>\n",
       "      <td>3.980000</td>\n",
       "      <td>2.430000</td>\n",
       "    </tr>\n",
       "    <tr>\n",
       "      <th>1</th>\n",
       "      <td>0.21</td>\n",
       "      <td>Premium</td>\n",
       "      <td>E</td>\n",
       "      <td>SI1</td>\n",
       "      <td>59.8</td>\n",
       "      <td>61.0</td>\n",
       "      <td>326</td>\n",
       "      <td>3.890000</td>\n",
       "      <td>3.840000</td>\n",
       "      <td>2.310000</td>\n",
       "    </tr>\n",
       "    <tr>\n",
       "      <th>2</th>\n",
       "      <td>0.23</td>\n",
       "      <td>Good</td>\n",
       "      <td>E</td>\n",
       "      <td>VS1</td>\n",
       "      <td>56.9</td>\n",
       "      <td>65.0</td>\n",
       "      <td>327</td>\n",
       "      <td>4.050000</td>\n",
       "      <td>4.070000</td>\n",
       "      <td>2.310000</td>\n",
       "    </tr>\n",
       "    <tr>\n",
       "      <th>3</th>\n",
       "      <td>0.29</td>\n",
       "      <td>Premium</td>\n",
       "      <td>I</td>\n",
       "      <td>VS2</td>\n",
       "      <td>62.4</td>\n",
       "      <td>58.0</td>\n",
       "      <td>334</td>\n",
       "      <td>4.200000</td>\n",
       "      <td>4.230000</td>\n",
       "      <td>2.630000</td>\n",
       "    </tr>\n",
       "    <tr>\n",
       "      <th>4</th>\n",
       "      <td>0.31</td>\n",
       "      <td>Good</td>\n",
       "      <td>J</td>\n",
       "      <td>SI2</td>\n",
       "      <td>63.3</td>\n",
       "      <td>58.0</td>\n",
       "      <td>335</td>\n",
       "      <td>4.340000</td>\n",
       "      <td>4.350000</td>\n",
       "      <td>2.750000</td>\n",
       "    </tr>\n",
       "    <tr>\n",
       "      <th>...</th>\n",
       "      <td>...</td>\n",
       "      <td>...</td>\n",
       "      <td>...</td>\n",
       "      <td>...</td>\n",
       "      <td>...</td>\n",
       "      <td>...</td>\n",
       "      <td>...</td>\n",
       "      <td>...</td>\n",
       "      <td>...</td>\n",
       "      <td>...</td>\n",
       "    </tr>\n",
       "    <tr>\n",
       "      <th>29703</th>\n",
       "      <td>0.40</td>\n",
       "      <td>Ideal</td>\n",
       "      <td>E</td>\n",
       "      <td>SI1</td>\n",
       "      <td>62.5</td>\n",
       "      <td>57.0</td>\n",
       "      <td>707</td>\n",
       "      <td>4.700000</td>\n",
       "      <td>4.740000</td>\n",
       "      <td>2.950000</td>\n",
       "    </tr>\n",
       "    <tr>\n",
       "      <th>29704</th>\n",
       "      <td>0.32</td>\n",
       "      <td>Ideal</td>\n",
       "      <td>E</td>\n",
       "      <td>VS1</td>\n",
       "      <td>61.9</td>\n",
       "      <td>56.0</td>\n",
       "      <td>707</td>\n",
       "      <td>4.420000</td>\n",
       "      <td>4.470000</td>\n",
       "      <td>2.750000</td>\n",
       "    </tr>\n",
       "    <tr>\n",
       "      <th>29705</th>\n",
       "      <td>0.31</td>\n",
       "      <td>Very Good</td>\n",
       "      <td>G</td>\n",
       "      <td>VVS2</td>\n",
       "      <td>62.6</td>\n",
       "      <td>57.0</td>\n",
       "      <td>707</td>\n",
       "      <td>4.290000</td>\n",
       "      <td>4.330000</td>\n",
       "      <td>2.700000</td>\n",
       "    </tr>\n",
       "    <tr>\n",
       "      <th>29706</th>\n",
       "      <td>0.31</td>\n",
       "      <td>Very Good</td>\n",
       "      <td>G</td>\n",
       "      <td>VVS2</td>\n",
       "      <td>60.0</td>\n",
       "      <td>62.0</td>\n",
       "      <td>707</td>\n",
       "      <td>4.400000</td>\n",
       "      <td>4.440000</td>\n",
       "      <td>2.650000</td>\n",
       "    </tr>\n",
       "    <tr>\n",
       "      <th>29707</th>\n",
       "      <td>0.31</td>\n",
       "      <td>Ideal</td>\n",
       "      <td>G</td>\n",
       "      <td>VVS2</td>\n",
       "      <td>61.4</td>\n",
       "      <td>56.0</td>\n",
       "      <td>70</td>\n",
       "      <td>6.365387</td>\n",
       "      <td>6.366769</td>\n",
       "      <td>3.930153</td>\n",
       "    </tr>\n",
       "  </tbody>\n",
       "</table>\n",
       "<p>29631 rows × 10 columns</p>\n",
       "</div>"
      ],
      "text/plain": [
       "       carat        cut color clarity  depth  table  price         x  \\\n",
       "0       0.23      Ideal     E     SI2   61.5   55.0    326  3.950000   \n",
       "1       0.21    Premium     E     SI1   59.8   61.0    326  3.890000   \n",
       "2       0.23       Good     E     VS1   56.9   65.0    327  4.050000   \n",
       "3       0.29    Premium     I     VS2   62.4   58.0    334  4.200000   \n",
       "4       0.31       Good     J     SI2   63.3   58.0    335  4.340000   \n",
       "...      ...        ...   ...     ...    ...    ...    ...       ...   \n",
       "29703   0.40      Ideal     E     SI1   62.5   57.0    707  4.700000   \n",
       "29704   0.32      Ideal     E     VS1   61.9   56.0    707  4.420000   \n",
       "29705   0.31  Very Good     G    VVS2   62.6   57.0    707  4.290000   \n",
       "29706   0.31  Very Good     G    VVS2   60.0   62.0    707  4.400000   \n",
       "29707   0.31      Ideal     G    VVS2   61.4   56.0     70  6.365387   \n",
       "\n",
       "              y         z  \n",
       "0      3.980000  2.430000  \n",
       "1      3.840000  2.310000  \n",
       "2      4.070000  2.310000  \n",
       "3      4.230000  2.630000  \n",
       "4      4.350000  2.750000  \n",
       "...         ...       ...  \n",
       "29703  4.740000  2.950000  \n",
       "29704  4.470000  2.750000  \n",
       "29705  4.330000  2.700000  \n",
       "29706  4.440000  2.650000  \n",
       "29707  6.366769  3.930153  \n",
       "\n",
       "[29631 rows x 10 columns]"
      ]
     },
     "execution_count": 18,
     "metadata": {},
     "output_type": "execute_result"
    }
   ],
   "source": [
    "diamond"
   ]
  },
  {
   "cell_type": "markdown",
   "id": "13c5854d",
   "metadata": {},
   "source": [
    "# Exploratory Data Analysis (EDA) "
   ]
  },
  {
   "cell_type": "code",
   "execution_count": 20,
   "id": "954d4223",
   "metadata": {},
   "outputs": [],
   "source": [
    "# Determine the carat range you want\n",
    "rentang_karat = [0, 0.5, 1, 1.5, 2, 2.5, 3]\n",
    "\n",
    "# Create a new column 'Carat_Range' based on the carat range\n",
    "diamond['Karat_Range'] = pd.cut(diamond['carat'], bins=rentang_karat, include_lowest=True)\n",
    "\n",
    "# Calculate the total price in each carat range\n",
    "total_harga_per_karat = diamond.groupby('Karat_Range')['price'].sum()\n",
    "\n",
    "# Calculate the total price of the entire dataset\n",
    "total_harga_seluruh_dataset = diamond['price'].sum()\n",
    "\n",
    "# Calculate the percentage price within each carat range\n",
    "persentase_harga_karat = (total_harga_per_karat / total_harga_seluruh_dataset) * 100"
   ]
  },
  {
   "cell_type": "code",
   "execution_count": 21,
   "id": "ee90da07",
   "metadata": {},
   "outputs": [
    {
     "name": "stdout",
     "output_type": "stream",
     "text": [
      "Karat_Range\n",
      "(-0.001, 0.5]     1.632665\n",
      "(0.5, 1.0]       16.530097\n",
      "(1.0, 1.5]       43.743495\n",
      "(1.5, 2.0]       22.436697\n",
      "(2.0, 2.5]       14.610392\n",
      "(2.5, 3.0]        0.794487\n",
      "Name: price, dtype: float64\n"
     ]
    }
   ],
   "source": [
    "print(persentase_harga_karat)"
   ]
  },
  {
   "cell_type": "code",
   "execution_count": 22,
   "id": "e06b2505",
   "metadata": {},
   "outputs": [
    {
     "data": {
      "image/png": "[encoded data removed]",
      "text/plain": [
       "<Figure size 1000x600 with 1 Axes>"
      ]
     },
     "metadata": {},
     "output_type": "display_data"
    }
   ],
   "source": [
    "# Data to be used in the bar plot\n",
    "karat_ranges = [f\"{range.left:.2f} - {range.right:.2f} Carat\" for range in persentase_harga_karat.index]\n",
    "prices = persentase_harga_karat.values\n",
    "\n",
    "# Create bar plots\n",
    "plt.figure(figsize=(10, 6))\n",
    "plt.bar(karat_ranges, prices, color='skyblue')\n",
    "plt.xlabel('Rentang Karat')\n",
    "plt.ylabel('Persentase Harga (%)')\n",
    "plt.title('Persentase Harga Berdasarkan Rentang Karat pada Dataset Diamonds')\n",
    "\n",
    "# Added percentage labels above each bar\n",
    "for i, price in enumerate(prices):\n",
    "    plt.text(i, price, f'{price:.2f}%', ha='center', va='bottom')\n",
    "\n",
    "# Displays bar plots\n",
    "plt.xticks(rotation=45)\n",
    "plt.tight_layout()\n",
    "plt.show()"
   ]
  },
  {
   "cell_type": "markdown",
   "id": "a68ecaad",
   "metadata": {},
   "source": [
    "Based on the histogram above depicts the distribution of diamond prices across various carat categories, allowing us to see the price spread and how frequently diamonds with specific carats appear in the diamond dataset. Taller bars indicate more popular carat categories.\n",
    "A total of 43.74% of the diamonds in the dataset have carats between 1.00 and 1.50. This indicates that diamonds with carats in this range are very common or popular in the diamond market. It reflects a higher consumer demand for diamonds within this carat range."
   ]
  },
  {
   "cell_type": "code",
   "execution_count": 28,
   "id": "be391381",
   "metadata": {},
   "outputs": [],
   "source": [
    "# Counts the number of diamonds for each clarity level\n",
    "purity_distribution = diamond['clarity'].value_counts()\n",
    "\n",
    "# Calculating percentages\n",
    "total_diamonds = len(diamond)\n",
    "purity_percentage = (purity_distribution / total_diamonds) * 100\n",
    "\n",
    "# Sort by clarity level\n",
    "purity_percentage = purity_percentage.sort_values(ascending=False)"
   ]
  },
  {
   "cell_type": "code",
   "execution_count": 29,
   "id": "38d932de",
   "metadata": {
    "scrolled": true
   },
   "outputs": [
    {
     "data": {
      "text/plain": [
       "SI1     26.320408\n",
       "SI2     22.729574\n",
       "VS2     22.101853\n",
       "VS1     14.714319\n",
       "VVS2     7.114171\n",
       "VVS1     3.766326\n",
       "IF       1.633424\n",
       "I1       1.619925\n",
       "Name: clarity, dtype: float64"
      ]
     },
     "execution_count": 29,
     "metadata": {},
     "output_type": "execute_result"
    }
   ],
   "source": [
    "purity_percentage"
   ]
  },
  {
   "cell_type": "code",
   "execution_count": 33,
   "id": "5b5d8c79",
   "metadata": {},
   "outputs": [
    {
     "data": {
      "image/png": "[encoded data removed]",
      "text/plain": [
       "<Figure size 1000x600 with 1 Axes>"
      ]
     },
     "metadata": {},
     "output_type": "display_data"
    }
   ],
   "source": [
    "# Create a clarity level distribution plot\n",
    "plt.figure(figsize=(10, 6))\n",
    "ax = sns.barplot(x=purity_percentage.index, y=purity_percentage.values, palette='viridis', order=purity_percentage.index)\n",
    "plt.title('Distribution of Diamond Clarity Levels')\n",
    "plt.xlabel('Clarity Level')\n",
    "plt.ylabel('Percentage')\n",
    "\n",
    "# Added percentage labels above each bar\n",
    "for p in ax.patches:\n",
    "    ax.annotate(f'{p.get_height():.2f}%', (p.get_x() + p.get_width() / 2., p.get_height()), ha='center', va='center')\n",
    "\n",
    "plt.show()"
   ]
  },
  {
   "cell_type": "markdown",
   "id": "4ce8e514",
   "metadata": {},
   "source": [
    "Based on the data above, the SI1 clarity level of 26.32% is a common choice. Most of the diamonds in the diamond dataset have defects that tend to be small or moderate. Despite some flaws, diamonds at this grade are still of good quality and are often a popular choice due to their more affordable price. Meanwhile, the IF clarity level of 1.63% shows that the diamond in the category is practically free from internal defects, and I1 of 1.62% is the lowest in terms of quality with very obvious defects."
   ]
  },
  {
   "cell_type": "code",
   "execution_count": 34,
   "id": "81af60ce",
   "metadata": {},
   "outputs": [],
   "source": [
    "# Counts the number of diamonds for each clarity level\n",
    "color_distribution = diamond['color'].value_counts()\n",
    "\n",
    "# Calculating percentages\n",
    "total_diamonds = len(diamond)\n",
    "color_percentage = (color_distribution / total_diamonds) * 100\n",
    "\n",
    "# Sort by clarity level\n",
    "color_percentage = color_percentage.sort_values(ascending=False)"
   ]
  },
  {
   "cell_type": "code",
   "execution_count": 35,
   "id": "7a168e53",
   "metadata": {},
   "outputs": [
    {
     "data": {
      "text/plain": [
       "G    20.380682\n",
       "H    18.203908\n",
       "F    16.752725\n",
       "E    15.264419\n",
       "I    12.119064\n",
       "D    10.586885\n",
       "J     6.692315\n",
       "Name: color, dtype: float64"
      ]
     },
     "execution_count": 35,
     "metadata": {},
     "output_type": "execute_result"
    }
   ],
   "source": [
    "color_percentage"
   ]
  },
  {
   "cell_type": "code",
   "execution_count": 38,
   "id": "da8ef9e9",
   "metadata": {},
   "outputs": [
    {
     "data": {
      "image/png": "[encoded data removed]",
      "text/plain": [
       "<Figure size 1000x600 with 1 Axes>"
      ]
     },
     "metadata": {},
     "output_type": "display_data"
    }
   ],
   "source": [
    "# Create a color distribution plot\n",
    "plt.figure(figsize=(10, 6))\n",
    "ax = sns.barplot(x=color_percentage.index, y=color_percentage.values, order=color_percentage.index, palette='viridis')\n",
    "plt.title('Diamond Color Distribution')\n",
    "plt.xlabel('Color')\n",
    "plt.ylabel('Percentage')\n",
    "plt.xticks(rotation=45)  # To rotate the x-axis labels for easier reading\n",
    "\n",
    "# Adds a percentage above each bar\n",
    "for p in ax.patches:\n",
    "    ax.annotate(f'{p.get_height():.2f}%', (p.get_x() + p.get_width() / 2., p.get_height()), ha='center', va='center', fontsize=10, color='black', xytext=(0, 10), textcoords='offset points')\n",
    "\n",
    "plt.show()"
   ]
  },
  {
   "cell_type": "markdown",
   "id": "2673a4a9",
   "metadata": {},
   "source": [
    "Based on the data above, the color of diamonds in category G is 20.38% one of the common colors. G color diamonds are barely visible and have almost no color. Meanwhile, 6.69% of diamonds in the J category may have a more visible color. J color diamonds may be a more affordable option but have little visible color. Diamonds with colors that are as close to colorless as G tend to command higher prices due to their high color quality. On the other hand, diamonds with more visible colors like J may be a more affordable option."
   ]
  },
  {
   "cell_type": "code",
   "execution_count": 57,
   "id": "0db130c7",
   "metadata": {},
   "outputs": [],
   "source": [
    "# Calculate the average price by type of piece\n",
    "avg_prices_by_cut = diamond.groupby('cut')['price'].mean().reset_index()\n",
    "\n",
    "# Calculate the relative percentage price of each type of discount\n",
    "total_price = diamond['price'].sum()\n",
    "avg_prices_by_cut['price_percentage'] = (avg_prices_by_cut['price'] / total_price) * 100\n",
    "\n",
    "# Sort by average price\n",
    "avg_prices_by_cut = avg_prices_by_cut.sort_values(by='price', ascending=False)"
   ]
  },
  {
   "cell_type": "code",
   "execution_count": 58,
   "id": "655ab22c",
   "metadata": {},
   "outputs": [
    {
     "data": {
      "text/html": [
       "<div>\n",
       "<style scoped>\n",
       "    .dataframe tbody tr th:only-of-type {\n",
       "        vertical-align: middle;\n",
       "    }\n",
       "\n",
       "    .dataframe tbody tr th {\n",
       "        vertical-align: top;\n",
       "    }\n",
       "\n",
       "    .dataframe thead th {\n",
       "        text-align: right;\n",
       "    }\n",
       "</style>\n",
       "<table border=\"1\" class=\"dataframe\">\n",
       "  <thead>\n",
       "    <tr style=\"text-align: right;\">\n",
       "      <th></th>\n",
       "      <th>cut</th>\n",
       "      <th>price</th>\n",
       "      <th>price_percentage</th>\n",
       "    </tr>\n",
       "  </thead>\n",
       "  <tbody>\n",
       "    <tr>\n",
       "      <th>1</th>\n",
       "      <td>Premium</td>\n",
       "      <td>6685.918125</td>\n",
       "      <td>0.003736</td>\n",
       "    </tr>\n",
       "    <tr>\n",
       "      <th>4</th>\n",
       "      <td>Fair</td>\n",
       "      <td>5884.896311</td>\n",
       "      <td>0.003288</td>\n",
       "    </tr>\n",
       "    <tr>\n",
       "      <th>0</th>\n",
       "      <td>Ideal</td>\n",
       "      <td>5874.648558</td>\n",
       "      <td>0.003283</td>\n",
       "    </tr>\n",
       "    <tr>\n",
       "      <th>2</th>\n",
       "      <td>Very Good</td>\n",
       "      <td>5775.174077</td>\n",
       "      <td>0.003227</td>\n",
       "    </tr>\n",
       "    <tr>\n",
       "      <th>3</th>\n",
       "      <td>Good</td>\n",
       "      <td>5485.195681</td>\n",
       "      <td>0.003065</td>\n",
       "    </tr>\n",
       "  </tbody>\n",
       "</table>\n",
       "</div>"
      ],
      "text/plain": [
       "         cut        price  price_percentage\n",
       "1    Premium  6685.918125          0.003736\n",
       "4       Fair  5884.896311          0.003288\n",
       "0      Ideal  5874.648558          0.003283\n",
       "2  Very Good  5775.174077          0.003227\n",
       "3       Good  5485.195681          0.003065"
      ]
     },
     "execution_count": 58,
     "metadata": {},
     "output_type": "execute_result"
    }
   ],
   "source": [
    "avg_prices_by_cut"
   ]
  },
  {
   "cell_type": "code",
   "execution_count": 60,
   "id": "af0c2ae3",
   "metadata": {},
   "outputs": [
    {
     "data": {
      "image/png": "[encoded data removed]",
      "text/plain": [
       "<Figure size 1000x600 with 1 Axes>"
      ]
     },
     "metadata": {},
     "output_type": "display_data"
    }
   ],
   "source": [
    "# Create a color distribution plot\n",
    "plt.figure(figsize=(10, 6))\n",
    "ax = sns.barplot(x=avg_prices_by_cut['cut'], y=avg_prices_by_cut['price_percentage'], order=avg_prices_by_cut['cut'], palette='viridis')\n",
    "plt.title('Average Diamond Prices Based on Cut Type')\n",
    "plt.xlabel('Cut Type')\n",
    "plt.ylabel('Percentage')\n",
    "plt.xticks(rotation=45)  # To rotate the x-axis labels for easier reading\n",
    "\n",
    "# Adds a percentage above each bar\n",
    "for p in ax.patches:\n",
    "    ax.annotate(f'{p.get_height():.4f}%', (p.get_x() + p.get_width() / 2., p.get_height()), ha='center', va='center', fontsize=10, color='black', xytext=(0, 10), textcoords='offset points')\n",
    "\n",
    "plt.show()"
   ]
  },
  {
   "cell_type": "markdown",
   "id": "0b2632ec",
   "metadata": {},
   "source": [
    "Based on the data above, the Premium cut type of 0.0037% is the cut type with the highest average price among all cut types. This may be due to the excellent cut quality, which produces diamonds with exceptional sparkle and appearance. The lowest cut type, namely Good at 0.0031%, has the most affordable average price among all cut types. Good cut diamonds may have some drawbacks in cut quality compared to other cuts, but are often a more economical choice."
   ]
  },
  {
   "cell_type": "code",
   "execution_count": 67,
   "id": "01a1e201",
   "metadata": {},
   "outputs": [
    {
     "data": {
      "image/png": "[encoded data removed]",
      "text/plain": [
       "<Figure size 800x600 with 1 Axes>"
      ]
     },
     "metadata": {},
     "output_type": "display_data"
    }
   ],
   "source": [
    "# Create a depth histogram\n",
    "plt.figure(figsize=(8, 6))\n",
    "ax = sns.histplot(diamond['depth'], bins=20, kde=True, color='skyblue')\n",
    "plt.title('Diamond Depth Histogram')\n",
    "plt.xlabel('Depth')\n",
    "plt.ylabel('Frequency')\n",
    "\n",
    "# Calculate the percentages and add them above the histogram bars\n",
    "total_data = len(diamond)\n",
    "for p in ax.patches:\n",
    "    height = p.get_height()\n",
    "    ax.annotate(f'{height/total_data:.2%}', (p.get_x() + p.get_width() / 2., height), ha='center', va='center', fontsize=10, color='black', xytext=(0, 10), textcoords='offset points')\n",
    "\n",
    "plt.show()"
   ]
  },
  {
   "cell_type": "markdown",
   "id": "48b8ac2c",
   "metadata": {},
   "source": [
    "Based on the data above, the depth level ranges from 60 to 65 indicating that most diamonds have a depth level in this range. The highest peak is around 62 which is 42.22%, which indicates that the depth level of 62 is the most common."
   ]
  }
 ],
 "metadata": {
  "kernelspec": {
   "display_name": "Python 3 (ipykernel)",
   "language": "python",
   "name": "python3"
  },
  "language_info": {
   "codemirror_mode": {
    "name": "ipython",
    "version": 3
   },
   "file_extension": ".py",
   "mimetype": "text/x-python",
   "name": "python",
   "nbconvert_exporter": "python",
   "pygments_lexer": "ipython3",
   "version": "3.11.4"
  }
 },
 "nbformat": 4,
 "nbformat_minor": 5
}
